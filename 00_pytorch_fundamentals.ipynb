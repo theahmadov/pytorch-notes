{
  "nbformat": 4,
  "nbformat_minor": 0,
  "metadata": {
    "colab": {
      "provenance": [],
      "gpuType": "T4"
    },
    "kernelspec": {
      "name": "python3",
      "display_name": "Python 3"
    },
    "language_info": {
      "name": "python"
    },
    "accelerator": "GPU"
  },
  "cells": [
    {
      "cell_type": "markdown",
      "source": [
        "PyTorch is a framework for building deep learning models"
      ],
      "metadata": {
        "id": "TU1J6soS1Y7q"
      }
    },
    {
      "cell_type": "markdown",
      "source": [
        "Useful resources:\n",
        "\n",
        "*   Installation and Guide: https://pytorch.org\n",
        "*   Course notes: https://www.learnpytorch.io\n",
        "*   Course GitHub page: https://github.com/mrdbourke/pytorch-deep-learning\n",
        "\n",
        "\n",
        "\n"
      ],
      "metadata": {
        "id": "822C4yoC1q4g"
      }
    },
    {
      "cell_type": "code",
      "source": [
        "import torch\n",
        "import numpy as np\n",
        "import pandas as pd\n",
        "import matplotlib.pyplot as plt\n",
        "\n",
        "torch_version = torch.__version__\n",
        "runtime_status = !nvidia-smi"
      ],
      "metadata": {
        "id": "77TdsDOW2Ut4"
      },
      "execution_count": 1,
      "outputs": []
    },
    {
      "cell_type": "code",
      "source": [
        "torch_version"
      ],
      "metadata": {
        "colab": {
          "base_uri": "https://localhost:8080/",
          "height": 35
        },
        "id": "TcVxT69Y2irH",
        "outputId": "25929423-a14d-439a-bd3b-e8e1893866e4"
      },
      "execution_count": 3,
      "outputs": [
        {
          "output_type": "execute_result",
          "data": {
            "text/plain": [
              "'2.0.1+cu118'"
            ],
            "application/vnd.google.colaboratory.intrinsic+json": {
              "type": "string"
            }
          },
          "metadata": {},
          "execution_count": 3
        }
      ]
    },
    {
      "cell_type": "code",
      "source": [
        "runtime_status"
      ],
      "metadata": {
        "colab": {
          "base_uri": "https://localhost:8080/"
        },
        "id": "OF5mRmko2gWk",
        "outputId": "9349a8d5-b0d9-4d49-a503-f55ed963ec26"
      },
      "execution_count": 2,
      "outputs": [
        {
          "output_type": "execute_result",
          "data": {
            "text/plain": [
              "['Fri Jul 14 10:02:30 2023       ',\n",
              " '+-----------------------------------------------------------------------------+',\n",
              " '| NVIDIA-SMI 525.105.17   Driver Version: 525.105.17   CUDA Version: 12.0     |',\n",
              " '|-------------------------------+----------------------+----------------------+',\n",
              " '| GPU  Name        Persistence-M| Bus-Id        Disp.A | Volatile Uncorr. ECC |',\n",
              " '| Fan  Temp  Perf  Pwr:Usage/Cap|         Memory-Usage | GPU-Util  Compute M. |',\n",
              " '|                               |                      |               MIG M. |',\n",
              " '|===============================+======================+======================|',\n",
              " '|   0  Tesla T4            Off  | 00000000:00:04.0 Off |                    0 |',\n",
              " '| N/A   37C    P8     9W /  70W |      0MiB / 15360MiB |      0%      Default |',\n",
              " '|                               |                      |                  N/A |',\n",
              " '+-------------------------------+----------------------+----------------------+',\n",
              " '                                                                               ',\n",
              " '+-----------------------------------------------------------------------------+',\n",
              " '| Processes:                                                                  |',\n",
              " '|  GPU   GI   CI        PID   Type   Process name                  GPU Memory |',\n",
              " '|        ID   ID                                                   Usage      |',\n",
              " '|=============================================================================|',\n",
              " '|  No running processes found                                                 |',\n",
              " '+-----------------------------------------------------------------------------+']"
            ]
          },
          "metadata": {},
          "execution_count": 2
        }
      ]
    },
    {
      "cell_type": "code",
      "source": [
        "scalar = torch.tensor(7)\n",
        "\n",
        "scalar.item(), scalar.shape, scalar.ndim"
      ],
      "metadata": {
        "colab": {
          "base_uri": "https://localhost:8080/"
        },
        "id": "MsHBEBGk2lqz",
        "outputId": "aad050dc-b430-4d62-ea48-b044de1ea39d"
      },
      "execution_count": 7,
      "outputs": [
        {
          "output_type": "execute_result",
          "data": {
            "text/plain": [
              "(7, torch.Size([]), 0)"
            ]
          },
          "metadata": {},
          "execution_count": 7
        }
      ]
    },
    {
      "cell_type": "code",
      "source": [
        "vector = torch.tensor([1,2])\n",
        "\n",
        "vector[0].item(), vector.shape, vector.ndim"
      ],
      "metadata": {
        "colab": {
          "base_uri": "https://localhost:8080/"
        },
        "id": "FgbwbAUp2vcK",
        "outputId": "82fd1f55-634f-45ef-e2ff-1fffa1874b81"
      },
      "execution_count": 8,
      "outputs": [
        {
          "output_type": "execute_result",
          "data": {
            "text/plain": [
              "(1, torch.Size([2]), 1)"
            ]
          },
          "metadata": {},
          "execution_count": 8
        }
      ]
    },
    {
      "cell_type": "code",
      "source": [
        "MATRIX = torch.tensor([ [1, 2, 3],\n",
        "                        [4, 5, 6] ])\n",
        "\n",
        "MATRIX[0][1].item(), MATRIX.shape, MATRIX.ndim"
      ],
      "metadata": {
        "colab": {
          "base_uri": "https://localhost:8080/"
        },
        "id": "kcTtIztJ2__F",
        "outputId": "fe65e39e-756f-4cef-9161-01e4197cef45"
      },
      "execution_count": 10,
      "outputs": [
        {
          "output_type": "execute_result",
          "data": {
            "text/plain": [
              "(2, torch.Size([2, 3]), 2)"
            ]
          },
          "metadata": {},
          "execution_count": 10
        }
      ]
    },
    {
      "cell_type": "code",
      "source": [
        "TENSOR = torch.tensor([   [ [1, 2], [3, 3] ],\n",
        "                          [ [4, 4], [5, 6] ]   ])\n",
        "\n",
        "TENSOR[0][0][1].item(), TENSOR.shape, TENSOR.ndim"
      ],
      "metadata": {
        "colab": {
          "base_uri": "https://localhost:8080/"
        },
        "id": "mTpffJIW3PZq",
        "outputId": "e427f8e1-bc8f-4169-8a9b-447e329798b4"
      },
      "execution_count": 14,
      "outputs": [
        {
          "output_type": "execute_result",
          "data": {
            "text/plain": [
              "(2, torch.Size([2, 2, 2]), 3)"
            ]
          },
          "metadata": {},
          "execution_count": 14
        }
      ]
    },
    {
      "cell_type": "code",
      "source": [
        "random_tensor = torch.rand(\n",
        "    size = (3,4),\n",
        "    dtype = torch.float64,\n",
        "    device = None, # \"cpu\", \"cuda\", etc.\n",
        "    requires_grad = False\n",
        ")\n",
        "\n",
        "random_tensor, random_tensor.shape, random_tensor.dtype, random_tensor.device, random_tensor.requires_grad"
      ],
      "metadata": {
        "colab": {
          "base_uri": "https://localhost:8080/"
        },
        "id": "TEMdlUXa3s-h",
        "outputId": "6546ee34-a72e-4422-c292-25c96541a16d"
      },
      "execution_count": 2,
      "outputs": [
        {
          "output_type": "execute_result",
          "data": {
            "text/plain": [
              "(tensor([[0.3420, 0.3173, 0.4227, 0.3271],\n",
              "         [0.2452, 0.3286, 0.1445, 0.6798],\n",
              "         [0.4117, 0.2616, 0.0948, 0.7478]], dtype=torch.float64),\n",
              " torch.Size([3, 4]),\n",
              " torch.float64,\n",
              " device(type='cpu'),\n",
              " False)"
            ]
          },
          "metadata": {},
          "execution_count": 2
        }
      ]
    },
    {
      "cell_type": "code",
      "source": [
        "zeros = torch.zeros(size=(3,4))\n",
        "ones = torch.ones(size=(2,3))\n",
        "x = torch.zeros_like(ones)\n",
        "y = torch.ones_like(zeros)\n",
        "\n",
        "zeros, ones, x, y"
      ],
      "metadata": {
        "colab": {
          "base_uri": "https://localhost:8080/"
        },
        "id": "E4f0yXIN6pzg",
        "outputId": "072322d3-e027-450b-9998-705cae29fdaa"
      },
      "execution_count": 3,
      "outputs": [
        {
          "output_type": "execute_result",
          "data": {
            "text/plain": [
              "(tensor([[0., 0., 0., 0.],\n",
              "         [0., 0., 0., 0.],\n",
              "         [0., 0., 0., 0.]]),\n",
              " tensor([[1., 1., 1.],\n",
              "         [1., 1., 1.]]),\n",
              " tensor([[0., 0., 0.],\n",
              "         [0., 0., 0.]]),\n",
              " tensor([[1., 1., 1., 1.],\n",
              "         [1., 1., 1., 1.],\n",
              "         [1., 1., 1., 1.]]))"
            ]
          },
          "metadata": {},
          "execution_count": 3
        }
      ]
    },
    {
      "cell_type": "code",
      "source": [
        "range_tensor = torch.arange(start=1, end=11, step=1)\n",
        "range_tensor"
      ],
      "metadata": {
        "colab": {
          "base_uri": "https://localhost:8080/"
        },
        "id": "U4kzMpSZ61qG",
        "outputId": "75030264-449a-4750-cbdc-77ab5a7a5359"
      },
      "execution_count": 5,
      "outputs": [
        {
          "output_type": "execute_result",
          "data": {
            "text/plain": [
              "tensor([ 1,  2,  3,  4,  5,  6,  7,  8,  9, 10])"
            ]
          },
          "metadata": {},
          "execution_count": 5
        }
      ]
    },
    {
      "cell_type": "code",
      "source": [
        "a1 = torch.tensor([1, 2, 3])\n",
        "a2 = torch.tensor([4, 5, 6])\n",
        "b = torch.tensor([[1],\n",
        "                 [2],\n",
        "                 [3]])\n",
        "print(a1+a2) # torch.add(a,b)\n",
        "print(a1-a2) # torch.subtract(a,b)\n",
        "print(a1*a2) # torch.multiply(a,b)\n",
        "print(a1/a2) # torch.divide(a,b)\n",
        "print(a1 @ b) # torch.matmul(a,b)\n",
        "\n",
        "# torch.mm(a,b) is an alternative to torch.matmul(a,b), but it doesn't broadcast (fix the shapes)"
      ],
      "metadata": {
        "colab": {
          "base_uri": "https://localhost:8080/"
        },
        "id": "LSos-14g67n7",
        "outputId": "cd49d6b1-9dee-4b67-c935-e27d3d07fc4f"
      },
      "execution_count": 9,
      "outputs": [
        {
          "output_type": "stream",
          "name": "stdout",
          "text": [
            "tensor([5, 7, 9])\n",
            "tensor([-3, -3, -3])\n",
            "tensor([ 4, 10, 18])\n",
            "tensor([0.2500, 0.4000, 0.5000])\n",
            "tensor([14])\n"
          ]
        }
      ]
    },
    {
      "cell_type": "code",
      "source": [
        "# transpose of a tensor\n",
        "b.T"
      ],
      "metadata": {
        "colab": {
          "base_uri": "https://localhost:8080/"
        },
        "id": "ZkHpQCDr7kEF",
        "outputId": "fbe8abea-bd10-417f-d219-f4ee5a1005f3"
      },
      "execution_count": 10,
      "outputs": [
        {
          "output_type": "execute_result",
          "data": {
            "text/plain": [
              "tensor([[1, 2, 3]])"
            ]
          },
          "metadata": {},
          "execution_count": 10
        }
      ]
    },
    {
      "cell_type": "code",
      "source": [
        "print(torch.min(b))\n",
        "print(torch.max(b))\n",
        "print(torch.sum(b))\n",
        "print(torch.mean(b.type(torch.float32)))\n",
        "print(torch.argmin(b))\n",
        "print(torch.argmax(b))"
      ],
      "metadata": {
        "colab": {
          "base_uri": "https://localhost:8080/"
        },
        "id": "F94ELqbP8B10",
        "outputId": "715df389-df1e-41e5-936e-d945f1346f1a"
      },
      "execution_count": 11,
      "outputs": [
        {
          "output_type": "stream",
          "name": "stdout",
          "text": [
            "tensor(1)\n",
            "tensor(3)\n",
            "tensor(6)\n",
            "tensor(2.)\n",
            "tensor(0)\n",
            "tensor(2)\n"
          ]
        }
      ]
    },
    {
      "cell_type": "code",
      "source": [
        "b.dtype"
      ],
      "metadata": {
        "colab": {
          "base_uri": "https://localhost:8080/"
        },
        "id": "PmzKOzWh8X4q",
        "outputId": "a7135ebc-5d55-4193-b409-18fa106b0056"
      },
      "execution_count": 12,
      "outputs": [
        {
          "output_type": "execute_result",
          "data": {
            "text/plain": [
              "torch.int64"
            ]
          },
          "metadata": {},
          "execution_count": 12
        }
      ]
    },
    {
      "cell_type": "code",
      "source": [
        "# change tensor data type\n",
        "b = b.type(torch.float64)"
      ],
      "metadata": {
        "id": "p-kgKVW08bpS"
      },
      "execution_count": 15,
      "outputs": []
    },
    {
      "cell_type": "code",
      "source": [
        "b.dtype"
      ],
      "metadata": {
        "colab": {
          "base_uri": "https://localhost:8080/"
        },
        "id": "P8xijNRb8eGj",
        "outputId": "120e1e6b-9bf9-4fdd-bd36-9ca66180103e"
      },
      "execution_count": 16,
      "outputs": [
        {
          "output_type": "execute_result",
          "data": {
            "text/plain": [
              "torch.float64"
            ]
          },
          "metadata": {},
          "execution_count": 16
        }
      ]
    },
    {
      "cell_type": "code",
      "source": [
        "# reshaping\n",
        "t = torch.arange(1,10,1) # 9 elements\n",
        "reshaped = t.reshape(3,3) # 3 x 3 = 9\n",
        "reshaped"
      ],
      "metadata": {
        "colab": {
          "base_uri": "https://localhost:8080/"
        },
        "id": "w1slG2gk8e9a",
        "outputId": "e5143c11-9e07-4f7b-cef6-66c07fc0df7a"
      },
      "execution_count": 17,
      "outputs": [
        {
          "output_type": "execute_result",
          "data": {
            "text/plain": [
              "tensor([[1, 2, 3],\n",
              "        [4, 5, 6],\n",
              "        [7, 8, 9]])"
            ]
          },
          "metadata": {},
          "execution_count": 17
        }
      ]
    },
    {
      "cell_type": "code",
      "source": [
        "# reshaped tensors do not always share the same memory but views do\n",
        "v = t.view(3,3)\n",
        "v[0][0] = 10"
      ],
      "metadata": {
        "id": "U19CEW-o_XSo"
      },
      "execution_count": 18,
      "outputs": []
    },
    {
      "cell_type": "code",
      "source": [
        "v,t"
      ],
      "metadata": {
        "colab": {
          "base_uri": "https://localhost:8080/"
        },
        "id": "KCHooLWl_oK1",
        "outputId": "4d7200bd-13ec-4f26-d0fd-5d27e31baff1"
      },
      "execution_count": 19,
      "outputs": [
        {
          "output_type": "execute_result",
          "data": {
            "text/plain": [
              "(tensor([[10,  2,  3],\n",
              "         [ 4,  5,  6],\n",
              "         [ 7,  8,  9]]),\n",
              " tensor([10,  2,  3,  4,  5,  6,  7,  8,  9]))"
            ]
          },
          "metadata": {},
          "execution_count": 19
        }
      ]
    },
    {
      "cell_type": "code",
      "source": [
        "# Stacking tensors\n",
        "ts = torch.stack(tensors = [t,t,t], dim = 1)\n",
        "\n",
        "ts"
      ],
      "metadata": {
        "colab": {
          "base_uri": "https://localhost:8080/"
        },
        "id": "u2kuQ7xF_o2_",
        "outputId": "4833c831-7c4b-44b3-ea24-3a04a2a48d4d"
      },
      "execution_count": 20,
      "outputs": [
        {
          "output_type": "execute_result",
          "data": {
            "text/plain": [
              "tensor([[10, 10, 10],\n",
              "        [ 2,  2,  2],\n",
              "        [ 3,  3,  3],\n",
              "        [ 4,  4,  4],\n",
              "        [ 5,  5,  5],\n",
              "        [ 6,  6,  6],\n",
              "        [ 7,  7,  7],\n",
              "        [ 8,  8,  8],\n",
              "        [ 9,  9,  9]])"
            ]
          },
          "metadata": {},
          "execution_count": 20
        }
      ]
    },
    {
      "cell_type": "code",
      "source": [
        "# Squeeze = eliminate 1 dimensionals\n",
        "# Unsqueeze = vice-versa, add dimensionals as you wish\n",
        "\n",
        "t = torch.tensor([[1, 2]])\n",
        "\n",
        "sq = t.squeeze()\n",
        "usq = t.unsqueeze(dim=2)\n",
        "\n",
        "sq, usq"
      ],
      "metadata": {
        "colab": {
          "base_uri": "https://localhost:8080/"
        },
        "id": "P2L3-UzD_wqw",
        "outputId": "d76d751c-0d7f-4b77-b0df-3256e9468e69"
      },
      "execution_count": 24,
      "outputs": [
        {
          "output_type": "execute_result",
          "data": {
            "text/plain": [
              "(tensor([1, 2]),\n",
              " tensor([[[1],\n",
              "          [2]]]))"
            ]
          },
          "metadata": {},
          "execution_count": 24
        }
      ]
    },
    {
      "cell_type": "code",
      "source": [
        "# Permuting\n",
        "t = torch.rand(size=(300, 400, 3))\n",
        "\n",
        "p = t.permute(2,0,1) # changes the position of sizes\n",
        "\n",
        "p.shape"
      ],
      "metadata": {
        "colab": {
          "base_uri": "https://localhost:8080/"
        },
        "id": "Dz9_nvnKAIak",
        "outputId": "e3f6585d-b88e-4841-a47f-9a12a9cb3160"
      },
      "execution_count": 26,
      "outputs": [
        {
          "output_type": "execute_result",
          "data": {
            "text/plain": [
              "torch.Size([3, 300, 400])"
            ]
          },
          "metadata": {},
          "execution_count": 26
        }
      ]
    },
    {
      "cell_type": "code",
      "source": [
        "# Indexing\n",
        "t = torch.tensor([\n",
        "    [\n",
        "        [1,2], [3,4]\n",
        "    ],\n",
        "    [\n",
        "        [5,6], [7,8]\n",
        "    ]\n",
        "])\n",
        "\n",
        "t[:, :, 1] # or t[:][:][1]"
      ],
      "metadata": {
        "colab": {
          "base_uri": "https://localhost:8080/"
        },
        "id": "5xTxk6NeAZl7",
        "outputId": "9e1ab030-5380-4c75-8ba7-2887f86e310f"
      },
      "execution_count": 28,
      "outputs": [
        {
          "output_type": "execute_result",
          "data": {
            "text/plain": [
              "tensor([[2, 4],\n",
              "        [6, 8]])"
            ]
          },
          "metadata": {},
          "execution_count": 28
        }
      ]
    },
    {
      "cell_type": "code",
      "source": [
        "# PyTorch - NumPy relationship\n",
        "\n",
        "arr = np.arange(1,8) # ndarray\n",
        "t = torch.from_numpy(arr)\n",
        "arr2 = t.numpy() # if tensor is on GPU, it can't transform to numpy() array\n",
        "t, arr2"
      ],
      "metadata": {
        "colab": {
          "base_uri": "https://localhost:8080/"
        },
        "id": "kKeDT93DB-5F",
        "outputId": "0e48e85d-f89a-4bc9-8d83-9c74288c978e"
      },
      "execution_count": 31,
      "outputs": [
        {
          "output_type": "execute_result",
          "data": {
            "text/plain": [
              "(tensor([1, 2, 3, 4, 5, 6, 7]), array([1, 2, 3, 4, 5, 6, 7]))"
            ]
          },
          "metadata": {},
          "execution_count": 31
        }
      ]
    },
    {
      "cell_type": "code",
      "source": [
        "# Reproducibility (flavor the randomness)\n",
        "RANDOM_SEED = 42\n",
        "torch.manual_seed(RANDOM_SEED)"
      ],
      "metadata": {
        "colab": {
          "base_uri": "https://localhost:8080/"
        },
        "id": "4reV_8NJCYo2",
        "outputId": "8e8776e5-5c2a-425a-9264-e38a8490adac"
      },
      "execution_count": 30,
      "outputs": [
        {
          "output_type": "execute_result",
          "data": {
            "text/plain": [
              "<torch._C.Generator at 0x7806c45c50d0>"
            ]
          },
          "metadata": {},
          "execution_count": 30
        }
      ]
    },
    {
      "cell_type": "code",
      "source": [
        "# Check if PyTorch has access to GPU\n",
        "torch.cuda.is_available()"
      ],
      "metadata": {
        "colab": {
          "base_uri": "https://localhost:8080/"
        },
        "id": "XYej5gNWCh7H",
        "outputId": "c30e6354-b049-44a4-8500-110ca7170c4b"
      },
      "execution_count": 2,
      "outputs": [
        {
          "output_type": "execute_result",
          "data": {
            "text/plain": [
              "True"
            ]
          },
          "metadata": {},
          "execution_count": 2
        }
      ]
    },
    {
      "cell_type": "code",
      "source": [
        "device = \"cuda\" if torch.cuda.is_available() else \"cpu\""
      ],
      "metadata": {
        "id": "i1KAX1MtCyDJ"
      },
      "execution_count": 3,
      "outputs": []
    },
    {
      "cell_type": "code",
      "source": [
        "device"
      ],
      "metadata": {
        "colab": {
          "base_uri": "https://localhost:8080/",
          "height": 35
        },
        "id": "rmucNI0bC3QL",
        "outputId": "c77df1d5-c0d5-4b8d-d32d-03b9760c063a"
      },
      "execution_count": 4,
      "outputs": [
        {
          "output_type": "execute_result",
          "data": {
            "text/plain": [
              "'cuda'"
            ],
            "application/vnd.google.colaboratory.intrinsic+json": {
              "type": "string"
            }
          },
          "metadata": {},
          "execution_count": 4
        }
      ]
    },
    {
      "cell_type": "code",
      "source": [
        "torch.cuda.device_count()"
      ],
      "metadata": {
        "colab": {
          "base_uri": "https://localhost:8080/"
        },
        "id": "htC7WvSTC4NQ",
        "outputId": "2b44fa40-bbd6-43e9-d28f-5bfe4df420ef"
      },
      "execution_count": 6,
      "outputs": [
        {
          "output_type": "execute_result",
          "data": {
            "text/plain": [
              "1"
            ]
          },
          "metadata": {},
          "execution_count": 6
        }
      ]
    },
    {
      "cell_type": "code",
      "source": [
        "t = torch.tensor([7])\n",
        "tensor_in_gpu = t.to(device)\n",
        "tensor_in_cpu = t.cpu()\n",
        "tensor_in_gpu, tensor_in_cpu"
      ],
      "metadata": {
        "colab": {
          "base_uri": "https://localhost:8080/"
        },
        "id": "4jfELEBrC6sk",
        "outputId": "d22725a1-b5a8-4025-bd56-0f627e38de73"
      },
      "execution_count": 9,
      "outputs": [
        {
          "output_type": "execute_result",
          "data": {
            "text/plain": [
              "(tensor([7], device='cuda:0'), tensor([7]))"
            ]
          },
          "metadata": {},
          "execution_count": 9
        }
      ]
    },
    {
      "cell_type": "code",
      "source": [
        "tensor_in_cpu.numpy()"
      ],
      "metadata": {
        "colab": {
          "base_uri": "https://localhost:8080/"
        },
        "id": "5xnZ87XGDRGI",
        "outputId": "372aafb2-d104-4960-e99d-db02f8d1b331"
      },
      "execution_count": 10,
      "outputs": [
        {
          "output_type": "execute_result",
          "data": {
            "text/plain": [
              "array([7])"
            ]
          },
          "metadata": {},
          "execution_count": 10
        }
      ]
    },
    {
      "cell_type": "code",
      "source": [
        "tensor_in_gpu.numpy()"
      ],
      "metadata": {
        "colab": {
          "base_uri": "https://localhost:8080/",
          "height": 169
        },
        "id": "tzYjW73dDZ5L",
        "outputId": "eecea340-c975-44a9-f0ea-d62a5b8f0224"
      },
      "execution_count": 11,
      "outputs": [
        {
          "output_type": "error",
          "ename": "TypeError",
          "evalue": "ignored",
          "traceback": [
            "\u001b[0;31m---------------------------------------------------------------------------\u001b[0m",
            "\u001b[0;31mTypeError\u001b[0m                                 Traceback (most recent call last)",
            "\u001b[0;32m<ipython-input-11-70da3548c9f6>\u001b[0m in \u001b[0;36m<cell line: 1>\u001b[0;34m()\u001b[0m\n\u001b[0;32m----> 1\u001b[0;31m \u001b[0mtensor_in_gpu\u001b[0m\u001b[0;34m.\u001b[0m\u001b[0mnumpy\u001b[0m\u001b[0;34m(\u001b[0m\u001b[0;34m)\u001b[0m\u001b[0;34m\u001b[0m\u001b[0;34m\u001b[0m\u001b[0m\n\u001b[0m",
            "\u001b[0;31mTypeError\u001b[0m: can't convert cuda:0 device type tensor to numpy. Use Tensor.cpu() to copy the tensor to host memory first."
          ]
        }
      ]
    }
  ]
}